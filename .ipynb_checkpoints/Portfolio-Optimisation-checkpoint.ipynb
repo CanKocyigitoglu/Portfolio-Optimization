{
 "cells": [
  {
   "cell_type": "code",
   "execution_count": 1,
   "id": "dfa3306f-68c7-4d18-9304-2d45617b6878",
   "metadata": {},
   "outputs": [
    {
     "name": "stdout",
     "output_type": "stream",
     "text": [
      "YF.download() has changed argument auto_adjust default to True\n"
     ]
    },
    {
     "name": "stderr",
     "output_type": "stream",
     "text": [
      "[*********************100%***********************]  1 of 1 completed\n",
      "[*********************100%***********************]  1 of 1 completed\n",
      "[*********************100%***********************]  1 of 1 completed\n",
      "[*********************100%***********************]  1 of 1 completed\n",
      "[*********************100%***********************]  1 of 1 completed\n",
      "[*********************100%***********************]  1 of 1 completed\n",
      "[*********************100%***********************]  1 of 1 completed\n",
      "[*********************100%***********************]  1 of 1 completed\n",
      "[*********************100%***********************]  1 of 1 completed\n",
      "[*********************100%***********************]  1 of 1 completed\n",
      "[*********************100%***********************]  1 of 1 completed\n"
     ]
    }
   ],
   "source": [
    "# !pip install yfinance\n",
    "import yfinance as yf\n",
    "import pandas as pd\n",
    "\n",
    "# Define the time period\n",
    "start_date = \"2020-03-15\"  # 5 years ago from today\n",
    "end_date = \"2025-03-15\"  # Today\n",
    "\n",
    "# Download stock data\n",
    "aapl_data = yf.download(\"AAPL\", start=start_date, end=end_date)\n",
    "msft_data = yf.download(\"MSFT\", start=start_date, end=end_date)\n",
    "tsla_data = yf.download(\"TSLA\", start=start_date, end=end_date)\n",
    "nvda_data = yf.download(\"NVDA\", start=start_date, end=end_date)\n",
    "googl_data = yf.download(\"GOOGL\", start=start_date, end=end_date)\n",
    "amzn_data = yf.download(\"AMZN\", start=start_date, end=end_date)\n",
    "meta_data = yf.download(\"META\", start=start_date, end=end_date)\n",
    "nflx_data = yf.download(\"NFLX\", start=start_date, end=end_date)\n",
    "jpm_data = yf.download(\"JPM\", start=start_date, end=end_date)\n",
    "avgo_data = yf.download(\"AVGO\", start=start_date, end=end_date)\n",
    "market = yf.download(\"^GSPC\", start=start_date, end=end_date)"
   ]
  },
  {
   "cell_type": "code",
   "execution_count": 2,
   "id": "7540177d-1c57-4adf-9360-f8959b1c3595",
   "metadata": {},
   "outputs": [
    {
     "name": "stdout",
     "output_type": "stream",
     "text": [
      "amzn_data = {'Alpha': 2.8496391903984965e-05, 'Beta': 1.2098710463891988, 'Expected Return': Ticker\n",
      "^GSPC    0.000897\n",
      "dtype: float64, 'Idiosyncratic Risk': 0.0002883853852416989}\n",
      "aapl_data = {'Alpha': 0.0003339055929361247, 'Beta': 1.163387992926746, 'Expected Return': Ticker\n",
      "^GSPC    0.000866\n",
      "dtype: float64, 'Idiosyncratic Risk': 0.00015476718050175584}\n",
      "msft_data = {'Alpha': 0.00016332074812531647, 'Beta': 1.1636063570421462, 'Expected Return': Ticker\n",
      "^GSPC    0.000866\n",
      "dtype: float64, 'Idiosyncratic Risk': 0.00011929193933949847}\n",
      "tsla_data = {'Alpha': 0.001271904972405508, 'Beta': 1.7416549321446355, 'Expected Return': Ticker\n",
      "^GSPC    0.001256\n",
      "dtype: float64, 'Idiosyncratic Risk': 0.001242546505088573}\n",
      "nvda_data = {'Alpha': 0.001740287801692561, 'Beta': 1.9276281292280497, 'Expected Return': Ticker\n",
      "^GSPC    0.001382\n",
      "dtype: float64, 'Idiosyncratic Risk': 0.0006081403883704975}\n",
      "googl_data = {'Alpha': 0.00021173926388584797, 'Beta': 1.1914529640339055, 'Expected Return': Ticker\n",
      "^GSPC    0.000885\n",
      "dtype: float64, 'Idiosyncratic Risk': 0.00019102596821187907}\n",
      "jpm_data = {'Alpha': 0.0002978077591750973, 'Beta': 1.0023950975065714, 'Expected Return': Ticker\n",
      "^GSPC    0.000757\n",
      "dtype: float64, 'Idiosyncratic Risk': 0.00020137721537399352}\n",
      "avgo_data = {'Alpha': 0.001248134164532417, 'Beta': 1.4656041223912994, 'Expected Return': Ticker\n",
      "^GSPC    0.00107\n",
      "dtype: float64, 'Idiosyncratic Risk': 0.0003784534154949189}\n",
      "nflx_data = {'Alpha': 0.0004997614637352244, 'Beta': 1.0790479853591446, 'Expected Return': Ticker\n",
      "^GSPC    0.000809\n",
      "dtype: float64, 'Idiosyncratic Risk': 0.0006362245808273496}\n",
      "meta_data = {'Alpha': 0.0005042483909972578, 'Beta': 1.3920665661573184, 'Expected Return': Ticker\n",
      "^GSPC    0.00102\n",
      "dtype: float64, 'Idiosyncratic Risk': 0.0004878986708594354}\n"
     ]
    }
   ],
   "source": [
    "import statsmodels.api as sm\n",
    "\n",
    "def CAPM(data):\n",
    "    risk_free_rate = 0.02\n",
    "    trading_days = 251 # Trading days normaly  365.2425 (days on average per year) * 5/7 (proportion work days per week) - 10 (holidays) = 250.8875 ≈ 251.\n",
    "\n",
    "    risk_factor_daily = risk_free_rate / 251\n",
    "    daily_returns = data[\"Close\"].pct_change()\n",
    "    daily_returns = daily_returns.dropna()\n",
    "\n",
    "    market_daily_returns = market[\"Close\"].pct_change()\n",
    "    market_daily_returns = market_daily_returns.dropna()\n",
    "\n",
    "    excess_stock_returns = daily_returns - risk_factor_daily\n",
    "    excess_market_returns = market_daily_returns - risk_factor_daily\n",
    "\n",
    "    X = sm.add_constant(excess_market_returns)\n",
    "    y = excess_stock_returns\n",
    "\n",
    "    # X = X.reset_index(drop=True)\n",
    "    # y = y.reset_index(drop=True)\n",
    "\n",
    "    model = sm.OLS(y, X).fit()\n",
    "    alpha, beta = model.params\n",
    "\n",
    "    expected_return = risk_factor_daily + beta * (market_daily_returns.mean() - risk_factor_daily)\n",
    "\n",
    "    predictedX = model.predict(X)\n",
    "    y = y.squeeze()\n",
    "    residuals = y - predictedX\n",
    "    \n",
    "    idiosyncratic_variance = residuals.var()\n",
    "\n",
    "    return {\"Alpha\": alpha, \"Beta\": beta, \"Expected Return\": expected_return, \"Idiosyncratic Risk\": idiosyncratic_variance}\n",
    "\n",
    "\n",
    "\n",
    "print(\"amzn_data =\", CAPM(amzn_data))\n",
    "print(\"aapl_data =\", CAPM(aapl_data))\n",
    "print(\"msft_data =\", CAPM(msft_data))\n",
    "print(\"tsla_data =\", CAPM(tsla_data))\n",
    "print(\"nvda_data =\", CAPM(nvda_data))\n",
    "print(\"googl_data =\", CAPM(googl_data))\n",
    "print(\"jpm_data =\", CAPM(jpm_data))\n",
    "print(\"avgo_data =\", CAPM(avgo_data))\n",
    "print(\"nflx_data =\", CAPM(nflx_data))\n",
    "print(\"meta_data =\", CAPM(meta_data))"
   ]
  },
  {
   "cell_type": "code",
   "execution_count": 3,
   "id": "d8c046c1-771d-401a-a639-f9babc9b7b90",
   "metadata": {},
   "outputs": [
    {
     "name": "stdout",
     "output_type": "stream",
     "text": [
      "amzn_data = 2.8838538524169888\n",
      "aapl_data = 1.5476718050175584\n",
      "msft_data = 1.1929193933949847\n",
      "tsla_data = 12.425465050885729\n",
      "nvda_data = 6.081403883704975\n",
      "googl_data = 1.9102596821187907\n",
      "jpm_data = 2.0137721537399353\n",
      "avgo_data = 3.7845341549491893\n",
      "nflx_data = 6.362245808273496\n",
      "meta_data = 4.878986708594354\n"
     ]
    }
   ],
   "source": [
    "print(\"amzn_data =\", CAPM(amzn_data)['Idiosyncratic Risk'] * 10000)\n",
    "print(\"aapl_data =\", CAPM(aapl_data)['Idiosyncratic Risk'] * 10000)\n",
    "print(\"msft_data =\", CAPM(msft_data)['Idiosyncratic Risk'] * 10000)\n",
    "print(\"tsla_data =\", CAPM(tsla_data)['Idiosyncratic Risk'] * 10000)\n",
    "print(\"nvda_data =\", CAPM(nvda_data)['Idiosyncratic Risk'] * 10000)\n",
    "print(\"googl_data =\", CAPM(googl_data)['Idiosyncratic Risk'] * 10000)\n",
    "print(\"jpm_data =\", CAPM(jpm_data)['Idiosyncratic Risk'] * 10000)\n",
    "print(\"avgo_data =\", CAPM(avgo_data)['Idiosyncratic Risk'] * 10000)\n",
    "print(\"nflx_data =\", CAPM(nflx_data)['Idiosyncratic Risk'] * 10000)\n",
    "print(\"meta_data =\", CAPM(meta_data)['Idiosyncratic Risk'] * 10000)"
   ]
  },
  {
   "cell_type": "code",
   "execution_count": 4,
   "id": "74ffa3dc-0758-431e-bd68-27d962b60697",
   "metadata": {},
   "outputs": [
    {
     "name": "stderr",
     "output_type": "stream",
     "text": [
      "C:\\Users\\ck24160\\AppData\\Local\\Temp\\ipykernel_21404\\2261219918.py:55: FutureWarning: Calling float on a single element Series is deprecated and will raise a TypeError in the future. Use float(ser.iloc[0]) instead\n",
      "  covariance[i, j] = beta_values[i] * beta_values[j] * market_variance + idiosyncratic_variances[i]\n",
      "C:\\Users\\ck24160\\AppData\\Local\\Temp\\ipykernel_21404\\2261219918.py:57: FutureWarning: Calling float on a single element Series is deprecated and will raise a TypeError in the future. Use float(ser.iloc[0]) instead\n",
      "  covariance[i, j] = beta_values[i] * beta_values[j] * market_variance\n"
     ]
    }
   ],
   "source": [
    "# !pip install cvxopt\n",
    "import cvxopt\n",
    "from cvxopt import matrix, solvers\n",
    "import numpy as np\n",
    "import matplotlib.pyplot as plt\n",
    "\n",
    "beta_values = [\n",
    "    CAPM(amzn_data)[\"Beta\"], \n",
    "    CAPM(aapl_data )[\"Beta\"], \n",
    "    CAPM(msft_data)[\"Beta\"], \n",
    "    CAPM(tsla_data)[\"Beta\"], \n",
    "    CAPM(nvda_data)[\"Beta\"], \n",
    "    CAPM(googl_data)[\"Beta\"],\n",
    "    CAPM(jpm_data)[\"Beta\"], \n",
    "    CAPM(avgo_data)[\"Beta\"], \n",
    "    CAPM(nflx_data)[\"Beta\"],\n",
    "    CAPM(meta_data)[\"Beta\"]\n",
    "]\n",
    "\n",
    "idiosyncratic_variances = [\n",
    "    CAPM(amzn_data)[\"Idiosyncratic Risk\"],\n",
    "    CAPM(aapl_data )[\"Idiosyncratic Risk\"],\n",
    "    CAPM(msft_data)[\"Idiosyncratic Risk\"],\n",
    "    CAPM(tsla_data)[\"Idiosyncratic Risk\"],\n",
    "    CAPM(nvda_data)[\"Idiosyncratic Risk\"],\n",
    "    CAPM(googl_data)[\"Idiosyncratic Risk\"],\n",
    "    CAPM(jpm_data)[\"Idiosyncratic Risk\"],\n",
    "    CAPM(avgo_data)[\"Idiosyncratic Risk\"],\n",
    "    CAPM(nflx_data)[\"Idiosyncratic Risk\"],\n",
    "    CAPM(meta_data)[\"Idiosyncratic Risk\"]\n",
    "]\n",
    "\n",
    "expected_return = [\n",
    "    CAPM(amzn_data)[\"Expected Return\"][\"^GSPC\"],\n",
    "    CAPM(aapl_data )[\"Expected Return\"][\"^GSPC\"],\n",
    "    CAPM(msft_data)[\"Expected Return\"][\"^GSPC\"],\n",
    "    CAPM(tsla_data)[\"Expected Return\"][\"^GSPC\"],\n",
    "    CAPM(nvda_data)[\"Expected Return\"][\"^GSPC\"],\n",
    "    CAPM(googl_data)[\"Expected Return\"][\"^GSPC\"],\n",
    "    CAPM(jpm_data)[\"Expected Return\"][\"^GSPC\"],\n",
    "    CAPM(avgo_data)[\"Expected Return\"][\"^GSPC\"],\n",
    "    CAPM(nflx_data)[\"Expected Return\"][\"^GSPC\"],\n",
    "    CAPM(meta_data)[\"Expected Return\"][\"^GSPC\"]\n",
    "]\n",
    "\n",
    "market_daily_returns = market[\"Close\"].pct_change()\n",
    "market_daily_returns = market_daily_returns.dropna()\n",
    "market_variance = market_daily_returns.var()\n",
    "\n",
    "covariance = np.zeros((len(beta_values), len(beta_values)))\n",
    "\n",
    "for i in range(len(beta_values)):\n",
    "    for j in range(len(beta_values)):\n",
    "        if i == j:\n",
    "            covariance[i, j] = beta_values[i] * beta_values[j] * market_variance + idiosyncratic_variances[i]\n",
    "        else:\n",
    "            covariance[i, j] = beta_values[i] * beta_values[j] * market_variance\n",
    "\n",
    "Sigma = matrix(covariance)\n",
    "mu = matrix(expected_return)"
   ]
  },
  {
   "cell_type": "code",
   "execution_count": 5,
   "id": "c153bdfd-8053-44ea-813e-9c9d64f002a8",
   "metadata": {},
   "outputs": [
    {
     "name": "stdout",
     "output_type": "stream",
     "text": [
      "[  0.   0.   0.  -0.  -0.   0. 100.  -0.   0.   0.]\n",
      "[ 5.2 17.9 23.1  0.   0.  10.5 35.4  0.   7.9  0. ]\n",
      "[ 9.4 17.9 23.2  1.7  3.  14.3 14.7  6.3  4.5  5.1]\n",
      "[ 9.  15.1 19.7  4.4 10.5 13.   7.4 10.4  3.1  7.3]\n",
      "[ 8.4 12.1 15.7  7.1 18.2 11.6  1.1 14.6  1.7  9.5]\n",
      "[ 7.   7.1  9.3 10.2 26.9  8.7  0.  18.8  0.4 11.6]\n",
      "[ 5.2  1.7  2.  13.3 35.9  5.1  0.  23.1  0.1 13.6]\n",
      "[ 0.1  0.   0.  16.8 47.4  0.   0.  23.7  0.  11.9]\n",
      "[ 0.   0.   0.  20.8 65.4  0.   0.  13.7  0.   0.2]\n",
      "[ -0.  -0.  -0.   0. 100.  -0.  -0.   0.  -0.   0.]\n"
     ]
    },
    {
     "data": {
      "image/png": "[encoded data removed]",
      "text/plain": [
       "<Figure size 800x500 with 1 Axes>"
      ]
     },
     "metadata": {},
     "output_type": "display_data"
    }
   ],
   "source": [
    "def optimize_portfolio(target_return):\n",
    "    P = Sigma\n",
    "    q = matrix(np.zeros(len(mu)))\n",
    "    mu_array = np.array(mu).flatten()\n",
    "    A = matrix(np.vstack((np.ones(len(mu_array)), mu_array)).astype(float))\n",
    "    b = matrix(np.array([1.0, target_return]))\n",
    "    G = matrix(-np.eye(len(mu)))\n",
    "    h = matrix(np.zeros(len(mu)))\n",
    "    solvers.options['show_progress'] = False\n",
    "    sol = solvers.qp(P, q, G, h, A, b)\n",
    "    return np.array(sol['x']).flatten()\n",
    "\n",
    "target_returns = np.linspace(np.min(np.array(mu)), np.max(np.array(mu)), 10)\n",
    "\n",
    "portfolio_weights = {}\n",
    "\n",
    "for tr in target_returns:\n",
    "    rounded_tr = round(tr, 4)\n",
    "    optimal_weights = optimize_portfolio(tr)\n",
    "    portfolio_weights[rounded_tr] = optimal_weights\n",
    "portfolio_df = pd.DataFrame(portfolio_weights, index=beta_values)\n",
    "\n",
    "portfolio_risks = []\n",
    "for tr in target_returns:\n",
    "    weights = optimize_portfolio(tr)\n",
    "    print(np.around(weights * 100, 1))\n",
    "    portfolio_variance = weights.T @ covariance @ weights\n",
    "    portfolio_risks.append(np.sqrt(portfolio_variance))\n",
    "\n",
    "plt.figure(figsize=(8, 5))\n",
    "plt.plot(portfolio_risks, target_returns, marker='o', linestyle='-')\n",
    "plt.xlabel(\"Portfolio Risk\")\n",
    "plt.ylabel(\"Expected Return\")\n",
    "plt.grid()\n",
    "plt.show()"
   ]
  }
 ],
 "metadata": {
  "kernelspec": {
   "display_name": "Python 3",
   "language": "python",
   "name": "python3"
  },
  "language_info": {
   "codemirror_mode": {
    "name": "ipython",
    "version": 3
   },
   "file_extension": ".py",
   "mimetype": "text/x-python",
   "name": "python",
   "nbconvert_exporter": "python",
   "pygments_lexer": "ipython3",
   "version": "3.8.8"
  }
 },
 "nbformat": 4,
 "nbformat_minor": 5
}
